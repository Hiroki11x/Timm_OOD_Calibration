{
 "cells": [
  {
   "cell_type": "code",
   "execution_count": null,
   "metadata": {},
   "outputs": [],
   "source": [
    "%matplotlib inline\n",
    "\n",
    "import re\n",
    "\n",
    "import pickle\n",
    "import collections\n",
    "import pathlib\n",
    "import numpy as np\n",
    "import matplotlib.pyplot as plt\n",
    "from utils import get_wandb_logs, num_params, pd, clean_model_names"
   ]
  },
  {
   "cell_type": "code",
   "execution_count": null,
   "metadata": {},
   "outputs": [],
   "source": [
    "\n",
    "wandb_path_list = [\n",
    "    \"Timm_OfficeHome_ERM_momentum_sgd_v11\",\n",
    "    \"Timm_PACS_ERM_momentum_sgd_v11\",\n",
    "    \"Timm_DomainNet_ERM_momentum_sgd_v11\",\n",
    "    \"Timm_VLCS_3_ERM_momentum_sgd_v11\",\n",
    "]\n",
    "\n",
    "# wandb_path_list = [\n",
    "#     \"Timm_OfficeHome_ERM_momentum_sgd_v10\",\n",
    "#     \"Timm_PACS_ERM_momentum_sgd_v10\",\n",
    "#     \"Timm_DomainNet_ERM_momentum_sgd_v10\",\n",
    "#     \"Timm_VLCS_3_ERM_momentum_sgd_v10\",\n",
    "# ]\n",
    "\n",
    "# wandb_path_list = [\n",
    "#     \"Timm_OfficeHome_ERM_momentum_sgd_v9\",\n",
    "#     \"Timm_PACS_ERM_momentum_sgd_v9\",\n",
    "#     \"Timm_DomainNet_ERM_momentum_sgd_v9\",\n",
    "#     \"Timm_VLCS_3_ERM_momentum_sgd_v9\",\n",
    "# ]\n",
    "\n",
    "# wandb_path_list = [\n",
    "#     \"Timm_OfficeHome_ERM_momentum_sgd_v8\",\n",
    "#     \"Timm_PACS_ERM_momentum_sgd_v8\",\n",
    "#     \"Timm_DomainNet_ERM_momentum_sgd_v8\",\n",
    "#     \"Timm_VLCS_3_ERM_momentum_sgd_v8\",\n",
    "# ]\n",
    "\n",
    "\n",
    "# wandb_path_list = [\n",
    "#     \"Timm_OfficeHome_ERM_momentum_sgd_v7\",\n",
    "#     \"Timm_PACS_ERM_momentum_sgd_v7\",\n",
    "#     \"Timm_DomainNet_ERM_momentum_sgd_v7\",\n",
    "#     \"Timm_VLCS_3_ERM_momentum_sgd_v7\",\n",
    "# ]\n",
    "\n",
    "\n",
    "# wandb_path_list = [\n",
    "#     \"Timm_OfficeHome_ERM_momentum_sgd_v6\",\n",
    "#     \"Timm_PACS_ERM_momentum_sgd_v6\",\n",
    "#     \"Timm_DomainNet_ERM_momentum_sgd_v6\",\n",
    "#     \"Timm_VLCS_3_ERM_momentum_sgd_v6\",\n",
    "# ]\n",
    "\n",
    "# wandb_path_list = [\n",
    "#     \"Timm_OfficeHome_ERM_momentum_sgd_v5\",\n",
    "#     \"Timm_PACS_ERM_momentum_sgd_v5\",\n",
    "#     \"Timm_DomainNet_ERM_momentum_sgd_v5\",\n",
    "#     \"Timm_VLCS_3_ERM_momentum_sgd_v5\",\n",
    "# ]\n",
    "\n",
    "# wandb_path_list = [\n",
    "#     \"Timm_OfficeHome_ERM_momentum_sgd_v4\",\n",
    "#     \"Timm_PACS_ERM_momentum_sgd_v4\",\n",
    "#     \"Timm_DomainNet_ERM_momentum_sgd_v4\",\n",
    "#     \"Timm_VLCS_3_ERM_momentum_sgd_v4\",\n",
    "# ]"
   ]
  },
  {
   "cell_type": "code",
   "execution_count": null,
   "metadata": {},
   "outputs": [],
   "source": [
    "_dfs = {}\n",
    "entity = \"anonymized\"\n",
    "for wandb_path in wandb_path_list:\n",
    "    tmp_df  = get_wandb_logs(f\"{entity}/{wandb_path}\")\n",
    "    _dfs[f'{wandb_path}'] = tmp_df"
   ]
  },
  {
   "cell_type": "code",
   "execution_count": null,
   "metadata": {},
   "outputs": [],
   "source": [
    "def print_shell_args(df, wandb_project_name):\n",
    "\n",
    "    print(f\"\\n========================================================================\\n\")\n",
    "    print(f\"wandb_project_name: {wandb_project_name}\\n\")\n",
    "\n",
    "    # Grouping by model and getting the row with the maximum avg_val_acc for each model\n",
    "    best_lrs = df.groupby(\"model\", group_keys=False).apply(lambda group: group.nlargest(1, \"avg_val_acc\"))\n",
    "\n",
    "    # Extracting lr, avg_val_acc, and avg_test_acc for each model with the highest avg_val_acc\n",
    "    best_metrics = best_lrs[[\"model\", \"lr\", \"avg_val_acc\", \"avg_test_acc\"]]\n",
    "\n",
    "    print(\"Best Metrics:\\n\", best_metrics, \"\\n\")\n",
    "\n",
    "    shell_commands = []\n",
    "\n",
    "    for _, row in best_metrics.iterrows():\n",
    "        command = f\"MODEL_LR_MAP['{row['model']}']={row['lr']:.4f}\"\n",
    "        shell_commands.append(command)\n",
    "\n",
    "    shell_commands_output = '\\n'.join(shell_commands)\n",
    "\n",
    "    print(\"\\nShell Commands:\\n\")\n",
    "    print(shell_commands_output)"
   ]
  },
  {
   "cell_type": "code",
   "execution_count": null,
   "metadata": {},
   "outputs": [],
   "source": [
    "for wandb_project_name in wandb_path_list:\n",
    "    df = _dfs[wandb_project_name]\n",
    "    print_shell_args(df, wandb_project_name)"
   ]
  },
  {
   "cell_type": "code",
   "execution_count": null,
   "metadata": {},
   "outputs": [],
   "source": []
  }
 ],
 "metadata": {
  "kernelspec": {
   "display_name": "Python 3",
   "language": "python",
   "name": "python3"
  },
  "language_info": {
   "codemirror_mode": {
    "name": "ipython",
    "version": 3
   },
   "file_extension": ".py",
   "mimetype": "text/x-python",
   "name": "python",
   "nbconvert_exporter": "python",
   "pygments_lexer": "ipython3",
   "version": "3.9.6"
  },
  "orig_nbformat": 4
 },
 "nbformat": 4,
 "nbformat_minor": 2
}
